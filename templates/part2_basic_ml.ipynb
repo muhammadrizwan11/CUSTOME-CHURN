{
 "cells": [
  {
   "cell_type": "markdown",
   "metadata": {},
   "source": [
    "# Part 2: Basic Machine Learning\n",
    "**Time Allocation:** 20-25 minutes  \n",
    "**Points:** 35 points total  \n",
    "\n",
    "**Prerequisites:** Complete Part 1 and have `cleaned_customer_data.csv` ready\n",
    "\n",
    "**Instructions:** Complete all tasks in order. Add your code in the empty cells provided.\n",
    "\n",
    "---"
   ]
  },
  {
   "cell_type": "markdown",
   "metadata": {},
   "source": [
    "## Overview\n",
    "In this part, you will use the cleaned dataset from Part 1 to build and evaluate basic machine learning models for predicting customer churn. This demonstrates core ML skills expected in internships."
   ]
  },
  {
   "cell_type": "markdown",
   "metadata": {},
   "source": [
    "---\n",
    "## Task 2.1: Data Preparation for ML (8 points)\n",
    "\n",
    "### Instructions:\n",
    "1. **Load your cleaned data**\n",
    "   - Import the cleaned dataset from Part 1\n",
    "   - Verify it has no missing values\n",
    "\n",
    "2. **Prepare features and target**\n",
    "   - Separate features (X) from target variable (y)\n",
    "   - Target: `churn` column (what we want to predict)\n",
    "   - Features: All other columns except `customer_id` and `churn`\n",
    "\n",
    "3. **Handle categorical data**\n",
    "   - Convert categorical features to numbers using Label Encoding\n",
    "   - For example: Male=0, Female=1 for gender\n",
    "   - Apply to: `gender`, `contract_type`, `internet_service`\n",
    "\n",
    "4. **Train-test split**\n",
    "   - Split data into 80% training, 20% testing\n",
    "   - Use `random_state=42` for reproducible results"
   ]
  },
  {
   "cell_type": "code",
   "execution_count": null,
   "metadata": {},
   "outputs": [],
   "source": [
    "# Import necessary libraries\n",
    "# Your code here\n"
   ]
  },
  {
   "cell_type": "code",
   "execution_count": null,
   "metadata": {},
   "outputs": [],
   "source": [
    "# Load cleaned dataset from Part 1\n",
    "# Your code here\n"
   ]
  },
  {
   "cell_type": "code",
   "execution_count": null,
   "metadata": {},
   "outputs": [],
   "source": [
    "# Verify no missing values\n",
    "# Your code here\n"
   ]
  },
  {
   "cell_type": "code",
   "execution_count": null,
   "metadata": {},
   "outputs": [],
   "source": [
    "# Separate features (X) and target (y)\n",
    "# X = all columns except customer_id and churn\n",
    "# y = churn column\n",
    "# Your code here\n"
   ]
  },
  {
   "cell_type": "code",
   "execution_count": null,
   "metadata": {},
   "outputs": [],
   "source": [
    "# Apply Label Encoding to categorical columns: gender, contract_type, internet_service\n",
    "# Note: Keep track of feature names for later interpretation\n",
    "# Your code here"
   ]
  },
  {
   "cell_type": "code",
   "execution_count": null,
   "metadata": {},
   "outputs": [],
   "source": [
    "# Encode target variable (churn: Yes=1, No=0)\n",
    "# Your code here\n"
   ]
  },
  {
   "cell_type": "code",
   "execution_count": null,
   "metadata": {},
   "outputs": [],
   "source": [
    "# Train-test split (80% train, 20% test, random_state=42)\n",
    "# Your code here\n"
   ]
  },
  {
   "cell_type": "markdown",
   "metadata": {},
   "source": [
    "---\n",
    "## Task 2.2: Build Basic ML Models (12 points)\n",
    "\n",
    "### Instructions:\n",
    "Build **2 different models** using scikit-learn:\n",
    "\n",
    "1. **Logistic Regression Model**\n",
    "   - Import `LogisticRegression` from sklearn\n",
    "   - Create and train the model on training data\n",
    "   - Make predictions on test data\n",
    "\n",
    "2. **Decision Tree Model**\n",
    "   - Import `DecisionTreeClassifier` from sklearn\n",
    "   - Create and train the model on training data\n",
    "   - Make predictions on test data\n",
    "\n",
    "### Code Pattern to Follow:\n",
    "```\n",
    "# For each model:\n",
    "# 1. Import the model\n",
    "# 2. Create model instance: model = ModelName()\n",
    "# 3. Train: model.fit(X_train, y_train)\n",
    "# 4. Predict: predictions = model.predict(X_test)\n",
    "```"
   ]
  },
  {
   "cell_type": "code",
   "execution_count": null,
   "metadata": {},
   "outputs": [],
   "source": [
    "# Import ML models\n",
    "# Your code here\n"
   ]
  },
  {
   "cell_type": "code",
   "execution_count": null,
   "metadata": {},
   "outputs": [],
   "source": [
    "# Create and train Logistic Regression model\n",
    "# Your code here\n"
   ]
  },
  {
   "cell_type": "code",
   "execution_count": null,
   "metadata": {},
   "outputs": [],
   "source": [
    "# Make predictions with Logistic Regression\n",
    "# Your code here\n"
   ]
  },
  {
   "cell_type": "code",
   "execution_count": null,
   "metadata": {},
   "outputs": [],
   "source": [
    "# Create and train Decision Tree model\n",
    "# Your code here\n"
   ]
  },
  {
   "cell_type": "code",
   "execution_count": null,
   "metadata": {},
   "outputs": [],
   "source": [
    "# Make predictions with Decision Tree\n",
    "# Your code here\n"
   ]
  },
  {
   "cell_type": "markdown",
   "metadata": {},
   "source": [
    "---\n",
    "## Task 2.3: Model Evaluation & Understanding (10 points)\n",
    "\n",
    "### Instructions:\n",
    "1. **Calculate Basic Metrics**\n",
    "   - Calculate accuracy for both models\n",
    "   - Create confusion matrix for both models\n",
    "   - Use `accuracy_score` and `confusion_matrix` from sklearn.metrics\n",
    "\n",
    "2. **Compare Models**\n",
    "   - Which model performed better?\n",
    "   - What is the accuracy difference?\n",
    "   - Display results in a clear format\n",
    "\n",
    "3. **Understanding Confusion Matrix**\n",
    "   - Explain what each number in the confusion matrix means\n",
    "   - Calculate by hand: How many customers did the model correctly predict would churn?\n",
    "   - How many did it incorrectly predict?"
   ]
  },
  {
   "cell_type": "code",
   "execution_count": null,
   "metadata": {},
   "outputs": [],
   "source": [
    "# Import evaluation metrics\n",
    "# Your code here\n"
   ]
  },
  {
   "cell_type": "code",
   "execution_count": null,
   "metadata": {},
   "outputs": [],
   "source": [
    "# Calculate accuracy for Logistic Regression\n",
    "# Your code here\n"
   ]
  },
  {
   "cell_type": "code",
   "execution_count": null,
   "metadata": {},
   "outputs": [],
   "source": [
    "# Calculate accuracy for Decision Tree\n",
    "# Your code here\n"
   ]
  },
  {
   "cell_type": "code",
   "execution_count": null,
   "metadata": {},
   "outputs": [],
   "source": [
    "# Create confusion matrix for Logistic Regression\n",
    "# Your code here\n"
   ]
  },
  {
   "cell_type": "code",
   "execution_count": null,
   "metadata": {},
   "outputs": [],
   "source": [
    "# Create confusion matrix for Decision Tree\n",
    "# Your code here\n"
   ]
  },
  {
   "cell_type": "code",
   "execution_count": null,
   "metadata": {},
   "outputs": [],
   "source": [
    "# Compare model performance - display results clearly\n",
    "# Your code here\n"
   ]
  },
  {
   "cell_type": "markdown",
   "metadata": {},
   "source": [
    "### Interpretation Section\n",
    "**Instructions:** Write your answers in the markdown cell below"
   ]
  },
  {
   "cell_type": "markdown",
   "metadata": {},
   "source": [
    "**Your Model Comparison & Confusion Matrix Interpretation:**\n",
    "\n",
    "1. Which model performed better and by how much?\n",
    "   - Your answer here...\n",
    "\n",
    "2. Explain what each number in the confusion matrix means:\n",
    "   - Your explanation here...\n",
    "\n",
    "3. How many customers did your best model correctly predict would churn? How many did it miss?\n",
    "   - Your analysis here..."
   ]
  },
  {
   "cell_type": "markdown",
   "metadata": {},
   "source": [
    "---\n",
    "## Task 2.4: Basic Feature Importance (5 points)\n",
    "\n",
    "### Instructions:\n",
    "1. **Extract Feature Importance** (Decision Tree only)\n",
    "   - Use `.feature_importances_` attribute of the trained decision tree\n",
    "   - Display which features are most important for predicting churn\n",
    "\n",
    "2. **Simple Interpretation**\n",
    "   - Write 2-3 sentences explaining what the most important features mean\n",
    "   - For example: \"Monthly charges is the most important feature, meaning higher bills increase churn probability\"\n",
    "\n",
    "3. **Business Insight**\n",
    "   - Based on the important features, suggest ONE simple action the company could take to reduce churn"
   ]
  },
  {
   "cell_type": "code",
   "execution_count": null,
   "metadata": {},
   "outputs": [],
   "source": [
    "# Extract feature importances from Decision Tree\n",
    "# Your code here\n"
   ]
  },
  {
   "cell_type": "code",
   "execution_count": null,
   "metadata": {},
   "outputs": [],
   "source": [
    "# Display feature names with their importance scores\n",
    "# Hint: You'll need the column names from your features (X) to match with importance values\n",
    "# Your code here"
   ]
  },
  {
   "cell_type": "markdown",
   "metadata": {},
   "source": [
    "### Feature Importance Interpretation\n",
    "**Instructions:** Write your analysis in the markdown cell below"
   ]
  },
  {
   "cell_type": "markdown",
   "metadata": {},
   "source": [
    "**Your Feature Importance Analysis:**\n",
    "\n",
    "1. What are the most important features for predicting churn?\n",
    "   - Your answer here...\n",
    "\n",
    "2. What do these important features tell us about why customers leave?\n",
    "   - Your explanation here... (2-3 sentences)\n",
    "\n",
    "3. Business Recommendation: Based on these results, what is ONE action the telecom company should take to reduce churn?\n",
    "   - Your recommendation here..."
   ]
  },
  {
   "cell_type": "markdown",
   "metadata": {},
   "source": [
    "---\n",
    "## Submission Checklist for Part 2\n",
    "\n",
    "Before submitting, verify you have completed:\n",
    "\n",
    "- [ ] ✅ Loaded cleaned data and verified no missing values\n",
    "- [ ] ✅ Separated features and target correctly\n",
    "- [ ] ✅ Applied label encoding to categorical variables\n",
    "- [ ] ✅ Created train-test split with random_state=42\n",
    "- [ ] ✅ Built and trained Logistic Regression model\n",
    "- [ ] ✅ Built and trained Decision Tree model\n",
    "- [ ] ✅ Calculated accuracy for both models\n",
    "- [ ] ✅ Created confusion matrices for both models\n",
    "- [ ] ✅ Compared model performance with written interpretation\n",
    "- [ ] ✅ Extracted and displayed feature importances\n",
    "- [ ] ✅ Provided business insights and recommendations\n",
    "- [ ] ✅ All code cells run without errors\n",
    "\n",
    "**Time Check:** Part 2 should take approximately 20-25 minutes\n",
    "**Total Time:** Both parts should be completed in 40-50 minutes"
   ]
  },
  {
   "cell_type": "markdown",
   "metadata": {},
   "source": [
    "---\n",
    "## Helpful Libraries Reference\n",
    "\n",
    "```python\n",
    "import pandas as pd\n",
    "import numpy as np\n",
    "from sklearn.model_selection import train_test_split\n",
    "from sklearn.linear_model import LogisticRegression\n",
    "from sklearn.tree import DecisionTreeClassifier\n",
    "from sklearn.metrics import accuracy_score, confusion_matrix\n",
    "from sklearn.preprocessing import LabelEncoder\n",
    "```"
   ]
  }
 ],
 "metadata": {
  "kernelspec": {
   "display_name": "Python 3",
   "language": "python",
   "name": "python3"
  },
  "language_info": {
   "codemirror_mode": {
    "name": "ipython",
    "version": 3
   },
   "file_extension": ".py",
   "mimetype": "text/x-python",
   "name": "python",
   "nbconvert_exporter": "python",
   "pyreset_defaults": true,
   "version": "3.8.0"
  }
 },
 "nbformat": 4,
 "nbformat_minor": 4
}
