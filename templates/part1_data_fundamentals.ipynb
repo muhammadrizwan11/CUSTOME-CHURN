{
 "cells": [
  {
   "cell_type": "markdown",
   "metadata": {},
   "source": [
    "# Part 1: Python & Data Fundamentals\n",
    "**Time Allocation:** 20-25 minutes  \n",
    "**Points:** 25 points total  \n",
    "\n",
    "**Instructions:** Complete all tasks in order. Add your code in the empty cells provided.\n",
    "\n",
    "---"
   ]
  },
  {
   "cell_type": "markdown",
   "metadata": {},
   "source": [
    "## Dataset Information\n",
    "**File:** `customer_data.csv` (provided in `/data/` folder)  \n",
    "**Description:** Customer information for a telecom company including demographics and service usage.\n",
    "\n",
    "**Columns:**\n",
    "- `customer_id`: Unique customer identifier\n",
    "- `age`: Customer age\n",
    "- `gender`: Male/Female\n",
    "- `monthly_charges`: Monthly bill amount\n",
    "- `total_charges`: Total charges to date\n",
    "- `contract_type`: Month-to-month, One year, Two year\n",
    "- `internet_service`: DSL, Fiber optic, No\n",
    "- `churn`: Yes/No (whether customer left)"
   ]
  },
  {
   "cell_type": "markdown",
   "metadata": {},
   "source": [
    "---\n",
    "## Task 1.1: Data Loading & Basic Exploration (8 points)\n",
    "\n",
    "### Instructions:\n",
    "1. **Load the dataset** using pandas\n",
    "   - Import necessary libraries (pandas, numpy)\n",
    "   - Read `customer_data.csv` from the data folder\n",
    "   - Display the first 5 rows\n",
    "\n",
    "2. **Explore dataset structure**\n",
    "   - Show the shape of the dataset (number of rows and columns)\n",
    "   - Display column names and data types\n",
    "   - Check for any obvious issues in the data"
   ]
  },
  {
   "cell_type": "code",
   "execution_count": null,
   "metadata": {},
   "outputs": [],
   "source": [
    "# Import necessary libraries\n",
    "# Your code here\n"
   ]
  },
  {
   "cell_type": "code",
   "execution_count": null,
   "metadata": {},
   "outputs": [],
   "source": [
    "# Load the dataset\n",
    "# Your code here\n"
   ]
  },
  {
   "cell_type": "code",
   "execution_count": null,
   "metadata": {},
   "outputs": [],
   "source": [
    "# Display first 5 rows\n",
    "# Your code here\n"
   ]
  },
  {
   "cell_type": "code",
   "execution_count": null,
   "metadata": {},
   "outputs": [],
   "source": [
    "# Show dataset shape\n",
    "# Your code here\n"
   ]
  },
  {
   "cell_type": "code",
   "execution_count": null,
   "metadata": {},
   "outputs": [],
   "source": [
    "# Display column names and data types\n",
    "# Your code here\n"
   ]
  },
  {
   "cell_type": "markdown",
   "metadata": {},
   "source": [
    "---\n",
    "## Task 1.2: Data Quality Assessment (7 points)\n",
    "\n",
    "### Instructions:\n",
    "1. **Check for missing values**\n",
    "   - Count missing values in each column\n",
    "   - Calculate percentage of missing data per column\n",
    "\n",
    "2. **Basic statistics**\n",
    "   - Generate descriptive statistics for numerical columns\n",
    "   - Count unique values in categorical columns\n",
    "\n",
    "3. **Identify potential issues**\n",
    "   - Look for unrealistic values (negative ages, etc.)\n",
    "   - Check for duplicate customer IDs"
   ]
  },
  {
   "cell_type": "code",
   "execution_count": null,
   "metadata": {},
   "outputs": [],
   "source": [
    "# Check for missing values - count\n",
    "# Your code here\n"
   ]
  },
  {
   "cell_type": "code",
   "execution_count": null,
   "metadata": {},
   "outputs": [],
   "source": [
    "# Check for missing values - percentage\n",
    "# Your code here\n"
   ]
  },
  {
   "cell_type": "code",
   "execution_count": null,
   "metadata": {},
   "outputs": [],
   "source": [
    "# Descriptive statistics for numerical columns\n",
    "# Your code here\n"
   ]
  },
  {
   "cell_type": "code",
   "execution_count": null,
   "metadata": {},
   "outputs": [],
   "source": [
    "# Count unique values in categorical columns\n",
    "# Your code here\n"
   ]
  },
  {
   "cell_type": "code",
   "execution_count": null,
   "metadata": {},
   "outputs": [],
   "source": [
    "# Check for duplicate customer IDs\n",
    "# Your code here\n"
   ]
  },
  {
   "cell_type": "code",
   "execution_count": null,
   "metadata": {},
   "outputs": [],
   "source": [
    "# Check for unrealistic values (negative ages, extreme charges, etc.)\n",
    "# Your code here"
   ]
  },
  {
   "cell_type": "markdown",
   "metadata": {},
   "source": [
    "---\n",
    "## Task 1.3: Simple Data Visualization (5 points)\n",
    "\n",
    "### Instructions:\n",
    "Create **2 visualizations** to understand the data better:\n",
    "\n",
    "1. **Age Distribution**\n",
    "   - Create a histogram of customer ages\n",
    "   - Add appropriate title and labels\n",
    "\n",
    "2. **Churn by Contract Type**\n",
    "   - Create a bar chart showing churn rates for each contract type\n",
    "   - Use different colors for churned vs non-churned customers"
   ]
  },
  {
   "cell_type": "code",
   "execution_count": null,
   "metadata": {},
   "outputs": [],
   "source": [
    "# Import visualization libraries\n",
    "# Your code here\n"
   ]
  },
  {
   "cell_type": "code",
   "execution_count": null,
   "metadata": {},
   "outputs": [],
   "source": [
    "# Create histogram of customer ages\n",
    "# Your code here\n"
   ]
  },
  {
   "cell_type": "code",
   "execution_count": null,
   "metadata": {},
   "outputs": [],
   "source": [
    "# Create bar chart for churn by contract type\n",
    "# Your code here\n"
   ]
  },
  {
   "cell_type": "markdown",
   "metadata": {},
   "source": [
    "---\n",
    "## Task 1.4: Basic Data Preparation (5 points)\n",
    "\n",
    "### Instructions:\n",
    "1. **Handle missing values**\n",
    "   - For numerical columns: Fill with median value\n",
    "   - For categorical columns: Fill with mode (most frequent value)\n",
    "\n",
    "2. **Convert data types**\n",
    "   - Convert `total_charges` to numeric (it might be stored as text)\n",
    "   - Ensure `age` and `monthly_charges` are numeric\n",
    "\n",
    "3. **Create a clean dataset**\n",
    "   - Save the cleaned dataset as `cleaned_customer_data.csv`\n",
    "   - Display confirmation that cleaning was successful"
   ]
  },
  {
   "cell_type": "code",
   "execution_count": null,
   "metadata": {},
   "outputs": [],
   "source": [
    "# Create a copy of the dataset for cleaning\n",
    "# Your code here\n"
   ]
  },
  {
   "cell_type": "code",
   "execution_count": null,
   "metadata": {},
   "outputs": [],
   "source": [
    "# Handle missing values in numerical columns (use median)\n",
    "# Your code here\n"
   ]
  },
  {
   "cell_type": "code",
   "execution_count": null,
   "metadata": {},
   "outputs": [],
   "source": [
    "# Handle missing values in categorical columns (use mode)\n",
    "# Your code here\n"
   ]
  },
  {
   "cell_type": "code",
   "execution_count": null,
   "metadata": {},
   "outputs": [],
   "source": [
    "# Convert data types - total_charges to numeric, ensure age and monthly_charges are numeric\n",
    "# Your code here"
   ]
  },
  {
   "cell_type": "code",
   "execution_count": null,
   "metadata": {},
   "outputs": [],
   "source": [
    "# Verify all data types are correct\n",
    "# Your code here\n"
   ]
  },
  {
   "cell_type": "code",
   "execution_count": null,
   "metadata": {},
   "outputs": [],
   "source": [
    "# Save cleaned dataset\n",
    "# Your code here\n"
   ]
  },
  {
   "cell_type": "code",
   "execution_count": null,
   "metadata": {},
   "outputs": [],
   "source": [
    "# Verify cleaning was successful (no missing values, correct data types)\n",
    "# Your code here\n"
   ]
  },
  {
   "cell_type": "markdown",
   "metadata": {},
   "source": [
    "---\n",
    "## Submission Checklist for Part 1\n",
    "\n",
    "Before moving to Part 2, verify you have completed:\n",
    "\n",
    "- [ ] ✅ Loaded the dataset successfully\n",
    "- [ ] ✅ Displayed basic information about the data\n",
    "- [ ] ✅ Identified and analyzed missing values\n",
    "- [ ] ✅ Created two visualizations (age histogram + churn by contract)\n",
    "- [ ] ✅ Cleaned the data and handled missing values\n",
    "- [ ] ✅ Saved `cleaned_customer_data.csv`\n",
    "- [ ] ✅ All code cells run without errors\n",
    "\n",
    "**Time Check:** You should have spent approximately 20-25 minutes on Part 1"
   ]
  }
 ],
 "metadata": {
  "kernelspec": {
   "display_name": "Python 3",
   "language": "python",
   "name": "python3"
  },
  "language_info": {
   "codemirror_mode": {
    "name": "ipython",
    "version": 3
   },
   "file_extension": ".py",
   "mimetype": "text/x-python",
   "name": "python",
   "nbconvert_exporter": "python",
   "pyreset_defaults": true,
   "version": "3.8.0"
  }
 },
 "nbformat": 4,
 "nbformat_minor": 4
}
