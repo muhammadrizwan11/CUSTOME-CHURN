{
 "cells": [
  {
   "cell_type": "markdown",
   "metadata": {},
   "source": [
    "# Part 1: Python & Data Fundamentals\n",
    "**Time Allocation:** 20-25 minutes  \n",
    "**Points:** 25 points total  \n",
    "\n",
    "**Instructions:** Complete all tasks in order. Add your code in the empty cells provided.\n",
    "\n",
    "---"
   ]
  },
  {
   "cell_type": "markdown",
   "metadata": {},
   "source": [
    "## Dataset Information\n",
    "**File:** `customer_data.csv` (provided in `/data/` folder)  \n",
    "**Description:** Customer information for a telecom company including demographics and service usage.\n",
    "\n",
    "**Columns:**\n",
    "- `customer_id`: Unique customer identifier\n",
    "- `age`: Customer age\n",
    "- `gender`: Male/Female\n",
    "- `monthly_charges`: Monthly bill amount\n",
    "- `total_charges`: Total charges to date\n",
    "- `contract_type`: Month-to-month, One year, Two year\n",
    "- `internet_service`: DSL, Fiber optic, No\n",
    "- `churn`: Yes/No (whether customer left)"
   ]
  },
  {
   "cell_type": "markdown",
   "metadata": {},
   "source": [
    "---\n",
    "## Task 1.1: Data Loading & Basic Exploration (8 points)\n",
    "\n",
    "### Instructions:\n",
    "1. **Load the dataset** using pandas\n",
    "   - Import necessary libraries (pandas, numpy)\n",
    "   - Read `customer_data.csv` from the data folder\n",
    "   - Display the first 5 rows\n",
    "\n",
    "2. **Explore dataset structure**\n",
    "   - Show the shape of the dataset (number of rows and columns)\n",
    "   - Display column names and data types\n",
    "   - Check for any obvious issues in the data"
   ]
  },
  {
   "cell_type": "code",
   "execution_count": 29,
   "metadata": {},
   "outputs": [],
   "source": [
    "# Import necessary libraries\n",
    "import pandas as pd\n",
    "import numpy as np"
   ]
  },
  {
   "cell_type": "code",
   "execution_count": 30,
   "metadata": {},
   "outputs": [],
   "source": [
    "# Load the dataset\n",
    "df = pd.read_csv('../data/customer_data.csv')"
   ]
  },
  {
   "cell_type": "code",
   "execution_count": 31,
   "metadata": {},
   "outputs": [
    {
     "data": {
      "text/html": [
       "<div>\n",
       "<style scoped>\n",
       "    .dataframe tbody tr th:only-of-type {\n",
       "        vertical-align: middle;\n",
       "    }\n",
       "\n",
       "    .dataframe tbody tr th {\n",
       "        vertical-align: top;\n",
       "    }\n",
       "\n",
       "    .dataframe thead th {\n",
       "        text-align: right;\n",
       "    }\n",
       "</style>\n",
       "<table border=\"1\" class=\"dataframe\">\n",
       "  <thead>\n",
       "    <tr style=\"text-align: right;\">\n",
       "      <th></th>\n",
       "      <th>customer_id</th>\n",
       "      <th>age</th>\n",
       "      <th>gender</th>\n",
       "      <th>monthly_charges</th>\n",
       "      <th>total_charges</th>\n",
       "      <th>contract_type</th>\n",
       "      <th>internet_service</th>\n",
       "      <th>churn</th>\n",
       "    </tr>\n",
       "  </thead>\n",
       "  <tbody>\n",
       "    <tr>\n",
       "      <th>0</th>\n",
       "      <td>CUST_0001</td>\n",
       "      <td>40.0</td>\n",
       "      <td>Male</td>\n",
       "      <td>73.89</td>\n",
       "      <td>NaN</td>\n",
       "      <td>Month-to-month</td>\n",
       "      <td>Fiber optic</td>\n",
       "      <td>Yes</td>\n",
       "    </tr>\n",
       "    <tr>\n",
       "      <th>1</th>\n",
       "      <td>CUST_0002</td>\n",
       "      <td>33.0</td>\n",
       "      <td>Male</td>\n",
       "      <td>44.24</td>\n",
       "      <td>471.25</td>\n",
       "      <td>Month-to-month</td>\n",
       "      <td>DSL</td>\n",
       "      <td>No</td>\n",
       "    </tr>\n",
       "    <tr>\n",
       "      <th>2</th>\n",
       "      <td>CUST_0003</td>\n",
       "      <td>42.0</td>\n",
       "      <td>Female</td>\n",
       "      <td>104.59</td>\n",
       "      <td>269.19</td>\n",
       "      <td>Month-to-month</td>\n",
       "      <td>Fiber optic</td>\n",
       "      <td>Yes</td>\n",
       "    </tr>\n",
       "    <tr>\n",
       "      <th>3</th>\n",
       "      <td>CUST_0004</td>\n",
       "      <td>53.0</td>\n",
       "      <td>Female</td>\n",
       "      <td>18.07</td>\n",
       "      <td>147.33</td>\n",
       "      <td>Month-to-month</td>\n",
       "      <td>No</td>\n",
       "      <td>No</td>\n",
       "    </tr>\n",
       "    <tr>\n",
       "      <th>4</th>\n",
       "      <td>CUST_0005</td>\n",
       "      <td>32.0</td>\n",
       "      <td>Male</td>\n",
       "      <td>82.58</td>\n",
       "      <td>1882.38</td>\n",
       "      <td>Two year</td>\n",
       "      <td>Fiber optic</td>\n",
       "      <td>No</td>\n",
       "    </tr>\n",
       "    <tr>\n",
       "      <th>...</th>\n",
       "      <td>...</td>\n",
       "      <td>...</td>\n",
       "      <td>...</td>\n",
       "      <td>...</td>\n",
       "      <td>...</td>\n",
       "      <td>...</td>\n",
       "      <td>...</td>\n",
       "      <td>...</td>\n",
       "    </tr>\n",
       "    <tr>\n",
       "      <th>995</th>\n",
       "      <td>CUST_0996</td>\n",
       "      <td>31.0</td>\n",
       "      <td>Male</td>\n",
       "      <td>30.67</td>\n",
       "      <td>821.73</td>\n",
       "      <td>Two year</td>\n",
       "      <td>DSL</td>\n",
       "      <td>No</td>\n",
       "    </tr>\n",
       "    <tr>\n",
       "      <th>996</th>\n",
       "      <td>CUST_0997</td>\n",
       "      <td>56.0</td>\n",
       "      <td>Male</td>\n",
       "      <td>77.19</td>\n",
       "      <td>121.29</td>\n",
       "      <td>Month-to-month</td>\n",
       "      <td>Fiber optic</td>\n",
       "      <td>Yes</td>\n",
       "    </tr>\n",
       "    <tr>\n",
       "      <th>997</th>\n",
       "      <td>CUST_0998</td>\n",
       "      <td>42.0</td>\n",
       "      <td>Male</td>\n",
       "      <td>27.93</td>\n",
       "      <td>61.13</td>\n",
       "      <td>Month-to-month</td>\n",
       "      <td>No</td>\n",
       "      <td>No</td>\n",
       "    </tr>\n",
       "    <tr>\n",
       "      <th>998</th>\n",
       "      <td>CUST_0999</td>\n",
       "      <td>28.0</td>\n",
       "      <td>Male</td>\n",
       "      <td>82.72</td>\n",
       "      <td>3021.44</td>\n",
       "      <td>Two year</td>\n",
       "      <td>Fiber optic</td>\n",
       "      <td>Yes</td>\n",
       "    </tr>\n",
       "    <tr>\n",
       "      <th>999</th>\n",
       "      <td>CUST_1000</td>\n",
       "      <td>41.0</td>\n",
       "      <td>Male</td>\n",
       "      <td>53.20</td>\n",
       "      <td>230.35</td>\n",
       "      <td>Month-to-month</td>\n",
       "      <td>DSL</td>\n",
       "      <td>No</td>\n",
       "    </tr>\n",
       "  </tbody>\n",
       "</table>\n",
       "<p>1000 rows × 8 columns</p>\n",
       "</div>"
      ],
      "text/plain": [
       "    customer_id   age  gender  monthly_charges  total_charges   contract_type  \\\n",
       "0     CUST_0001  40.0    Male            73.89            NaN  Month-to-month   \n",
       "1     CUST_0002  33.0    Male            44.24         471.25  Month-to-month   \n",
       "2     CUST_0003  42.0  Female           104.59         269.19  Month-to-month   \n",
       "3     CUST_0004  53.0  Female            18.07         147.33  Month-to-month   \n",
       "4     CUST_0005  32.0    Male            82.58        1882.38        Two year   \n",
       "..          ...   ...     ...              ...            ...             ...   \n",
       "995   CUST_0996  31.0    Male            30.67         821.73        Two year   \n",
       "996   CUST_0997  56.0    Male            77.19         121.29  Month-to-month   \n",
       "997   CUST_0998  42.0    Male            27.93          61.13  Month-to-month   \n",
       "998   CUST_0999  28.0    Male            82.72        3021.44        Two year   \n",
       "999   CUST_1000  41.0    Male            53.20         230.35  Month-to-month   \n",
       "\n",
       "    internet_service churn  \n",
       "0        Fiber optic   Yes  \n",
       "1                DSL    No  \n",
       "2        Fiber optic   Yes  \n",
       "3                 No    No  \n",
       "4        Fiber optic    No  \n",
       "..               ...   ...  \n",
       "995              DSL    No  \n",
       "996      Fiber optic   Yes  \n",
       "997               No    No  \n",
       "998      Fiber optic   Yes  \n",
       "999              DSL    No  \n",
       "\n",
       "[1000 rows x 8 columns]"
      ]
     },
     "execution_count": 31,
     "metadata": {},
     "output_type": "execute_result"
    }
   ],
   "source": [
    "df"
   ]
  },
  {
   "cell_type": "code",
   "execution_count": 32,
   "metadata": {},
   "outputs": [
    {
     "data": {
      "text/html": [
       "<div>\n",
       "<style scoped>\n",
       "    .dataframe tbody tr th:only-of-type {\n",
       "        vertical-align: middle;\n",
       "    }\n",
       "\n",
       "    .dataframe tbody tr th {\n",
       "        vertical-align: top;\n",
       "    }\n",
       "\n",
       "    .dataframe thead th {\n",
       "        text-align: right;\n",
       "    }\n",
       "</style>\n",
       "<table border=\"1\" class=\"dataframe\">\n",
       "  <thead>\n",
       "    <tr style=\"text-align: right;\">\n",
       "      <th></th>\n",
       "      <th>customer_id</th>\n",
       "      <th>age</th>\n",
       "      <th>gender</th>\n",
       "      <th>monthly_charges</th>\n",
       "      <th>total_charges</th>\n",
       "      <th>contract_type</th>\n",
       "      <th>internet_service</th>\n",
       "      <th>churn</th>\n",
       "    </tr>\n",
       "  </thead>\n",
       "  <tbody>\n",
       "    <tr>\n",
       "      <th>0</th>\n",
       "      <td>CUST_0001</td>\n",
       "      <td>40.0</td>\n",
       "      <td>Male</td>\n",
       "      <td>73.89</td>\n",
       "      <td>NaN</td>\n",
       "      <td>Month-to-month</td>\n",
       "      <td>Fiber optic</td>\n",
       "      <td>Yes</td>\n",
       "    </tr>\n",
       "    <tr>\n",
       "      <th>1</th>\n",
       "      <td>CUST_0002</td>\n",
       "      <td>33.0</td>\n",
       "      <td>Male</td>\n",
       "      <td>44.24</td>\n",
       "      <td>471.25</td>\n",
       "      <td>Month-to-month</td>\n",
       "      <td>DSL</td>\n",
       "      <td>No</td>\n",
       "    </tr>\n",
       "    <tr>\n",
       "      <th>2</th>\n",
       "      <td>CUST_0003</td>\n",
       "      <td>42.0</td>\n",
       "      <td>Female</td>\n",
       "      <td>104.59</td>\n",
       "      <td>269.19</td>\n",
       "      <td>Month-to-month</td>\n",
       "      <td>Fiber optic</td>\n",
       "      <td>Yes</td>\n",
       "    </tr>\n",
       "    <tr>\n",
       "      <th>3</th>\n",
       "      <td>CUST_0004</td>\n",
       "      <td>53.0</td>\n",
       "      <td>Female</td>\n",
       "      <td>18.07</td>\n",
       "      <td>147.33</td>\n",
       "      <td>Month-to-month</td>\n",
       "      <td>No</td>\n",
       "      <td>No</td>\n",
       "    </tr>\n",
       "    <tr>\n",
       "      <th>4</th>\n",
       "      <td>CUST_0005</td>\n",
       "      <td>32.0</td>\n",
       "      <td>Male</td>\n",
       "      <td>82.58</td>\n",
       "      <td>1882.38</td>\n",
       "      <td>Two year</td>\n",
       "      <td>Fiber optic</td>\n",
       "      <td>No</td>\n",
       "    </tr>\n",
       "  </tbody>\n",
       "</table>\n",
       "</div>"
      ],
      "text/plain": [
       "  customer_id   age  gender  monthly_charges  total_charges   contract_type  \\\n",
       "0   CUST_0001  40.0    Male            73.89            NaN  Month-to-month   \n",
       "1   CUST_0002  33.0    Male            44.24         471.25  Month-to-month   \n",
       "2   CUST_0003  42.0  Female           104.59         269.19  Month-to-month   \n",
       "3   CUST_0004  53.0  Female            18.07         147.33  Month-to-month   \n",
       "4   CUST_0005  32.0    Male            82.58        1882.38        Two year   \n",
       "\n",
       "  internet_service churn  \n",
       "0      Fiber optic   Yes  \n",
       "1              DSL    No  \n",
       "2      Fiber optic   Yes  \n",
       "3               No    No  \n",
       "4      Fiber optic    No  "
      ]
     },
     "execution_count": 32,
     "metadata": {},
     "output_type": "execute_result"
    }
   ],
   "source": [
    "# Display first 5 rows\n",
    "df.head()"
   ]
  },
  {
   "cell_type": "code",
   "execution_count": 33,
   "metadata": {},
   "outputs": [
    {
     "data": {
      "text/plain": [
       "(1000, 8)"
      ]
     },
     "execution_count": 33,
     "metadata": {},
     "output_type": "execute_result"
    }
   ],
   "source": [
    "# Ensure df_clean is defined\n",
    "df_clean = df.copy()\n",
    "\n",
    "# Show cleaned dataset shape\n",
    "df_clean.shape"
   ]
  },
  {
   "cell_type": "code",
   "execution_count": 34,
   "metadata": {},
   "outputs": [
    {
     "name": "stdout",
     "output_type": "stream",
     "text": [
      "<class 'pandas.core.frame.DataFrame'>\n",
      "RangeIndex: 1000 entries, 0 to 999\n",
      "Data columns (total 8 columns):\n",
      " #   Column            Non-Null Count  Dtype  \n",
      "---  ------            --------------  -----  \n",
      " 0   customer_id       1000 non-null   object \n",
      " 1   age               992 non-null    float64\n",
      " 2   gender            993 non-null    object \n",
      " 3   monthly_charges   1000 non-null   float64\n",
      " 4   total_charges     980 non-null    float64\n",
      " 5   contract_type     1000 non-null   object \n",
      " 6   internet_service  1000 non-null   object \n",
      " 7   churn             1000 non-null   object \n",
      "dtypes: float64(3), object(5)\n",
      "memory usage: 62.6+ KB\n"
     ]
    }
   ],
   "source": [
    "# Display column names and data types\n",
    "df_clean.info()"
   ]
  },
  {
   "cell_type": "markdown",
   "metadata": {},
   "source": [
    "---\n",
    "## Task 1.2: Data Quality Assessment (7 points)\n",
    "\n",
    "### Instructions:\n",
    "1. **Check for missing values**\n",
    "   - Count missing values in each column\n",
    "   - Calculate percentage of missing data per column\n",
    "\n",
    "2. **Basic statistics**\n",
    "   - Generate descriptive statistics for numerical columns\n",
    "   - Count unique values in categorical columns\n",
    "\n",
    "3. **Identify potential issues**\n",
    "   - Look for unrealistic values (negative ages, etc.)\n",
    "   - Check for duplicate customer IDs"
   ]
  },
  {
   "cell_type": "code",
   "execution_count": 35,
   "metadata": {},
   "outputs": [
    {
     "data": {
      "text/plain": [
       "customer_id          0\n",
       "age                  8\n",
       "gender               7\n",
       "monthly_charges      0\n",
       "total_charges       20\n",
       "contract_type        0\n",
       "internet_service     0\n",
       "churn                0\n",
       "dtype: int64"
      ]
     },
     "execution_count": 35,
     "metadata": {},
     "output_type": "execute_result"
    }
   ],
   "source": [
    "# Ensure df_clean is defined\n",
    "df_clean = df.copy()\n",
    "\n",
    "# Check for missing values - count\n",
    "df_clean.isnull().sum()"
   ]
  },
  {
   "cell_type": "code",
   "execution_count": 36,
   "metadata": {},
   "outputs": [
    {
     "data": {
      "text/plain": [
       "customer_id         0.0\n",
       "age                 0.8\n",
       "gender              0.7\n",
       "monthly_charges     0.0\n",
       "total_charges       2.0\n",
       "contract_type       0.0\n",
       "internet_service    0.0\n",
       "churn               0.0\n",
       "dtype: float64"
      ]
     },
     "execution_count": 36,
     "metadata": {},
     "output_type": "execute_result"
    }
   ],
   "source": [
    "# Check for missing values - percentage\n",
    "df.isnull().mean() * 100"
   ]
  },
  {
   "cell_type": "code",
   "execution_count": 37,
   "metadata": {},
   "outputs": [
    {
     "data": {
      "text/html": [
       "<div>\n",
       "<style scoped>\n",
       "    .dataframe tbody tr th:only-of-type {\n",
       "        vertical-align: middle;\n",
       "    }\n",
       "\n",
       "    .dataframe tbody tr th {\n",
       "        vertical-align: top;\n",
       "    }\n",
       "\n",
       "    .dataframe thead th {\n",
       "        text-align: right;\n",
       "    }\n",
       "</style>\n",
       "<table border=\"1\" class=\"dataframe\">\n",
       "  <thead>\n",
       "    <tr style=\"text-align: right;\">\n",
       "      <th></th>\n",
       "      <th>age</th>\n",
       "      <th>monthly_charges</th>\n",
       "      <th>total_charges</th>\n",
       "    </tr>\n",
       "  </thead>\n",
       "  <tbody>\n",
       "    <tr>\n",
       "      <th>count</th>\n",
       "      <td>992.000000</td>\n",
       "      <td>1000.000000</td>\n",
       "      <td>980.000000</td>\n",
       "    </tr>\n",
       "    <tr>\n",
       "      <th>mean</th>\n",
       "      <td>35.113911</td>\n",
       "      <td>54.016230</td>\n",
       "      <td>789.081010</td>\n",
       "    </tr>\n",
       "    <tr>\n",
       "      <th>std</th>\n",
       "      <td>11.072740</td>\n",
       "      <td>23.161593</td>\n",
       "      <td>722.857777</td>\n",
       "    </tr>\n",
       "    <tr>\n",
       "      <th>min</th>\n",
       "      <td>18.000000</td>\n",
       "      <td>15.000000</td>\n",
       "      <td>16.270000</td>\n",
       "    </tr>\n",
       "    <tr>\n",
       "      <th>25%</th>\n",
       "      <td>27.000000</td>\n",
       "      <td>35.292500</td>\n",
       "      <td>226.025000</td>\n",
       "    </tr>\n",
       "    <tr>\n",
       "      <th>50%</th>\n",
       "      <td>35.000000</td>\n",
       "      <td>50.845000</td>\n",
       "      <td>569.295000</td>\n",
       "    </tr>\n",
       "    <tr>\n",
       "      <th>75%</th>\n",
       "      <td>42.000000</td>\n",
       "      <td>73.310000</td>\n",
       "      <td>1107.257500</td>\n",
       "    </tr>\n",
       "    <tr>\n",
       "      <th>max</th>\n",
       "      <td>75.000000</td>\n",
       "      <td>123.650000</td>\n",
       "      <td>4440.900000</td>\n",
       "    </tr>\n",
       "  </tbody>\n",
       "</table>\n",
       "</div>"
      ],
      "text/plain": [
       "              age  monthly_charges  total_charges\n",
       "count  992.000000      1000.000000     980.000000\n",
       "mean    35.113911        54.016230     789.081010\n",
       "std     11.072740        23.161593     722.857777\n",
       "min     18.000000        15.000000      16.270000\n",
       "25%     27.000000        35.292500     226.025000\n",
       "50%     35.000000        50.845000     569.295000\n",
       "75%     42.000000        73.310000    1107.257500\n",
       "max     75.000000       123.650000    4440.900000"
      ]
     },
     "execution_count": 37,
     "metadata": {},
     "output_type": "execute_result"
    }
   ],
   "source": [
    "# Descriptive statistics for numerical columns\n",
    "df.describe()"
   ]
  },
  {
   "cell_type": "code",
   "execution_count": 38,
   "metadata": {},
   "outputs": [
    {
     "data": {
      "text/plain": [
       "customer_id         1000\n",
       "gender                 2\n",
       "contract_type          3\n",
       "internet_service       3\n",
       "churn                  2\n",
       "dtype: int64"
      ]
     },
     "execution_count": 38,
     "metadata": {},
     "output_type": "execute_result"
    }
   ],
   "source": [
    "# Count unique values in categorical columns\n",
    "df.select_dtypes(include='object').nunique()"
   ]
  },
  {
   "cell_type": "code",
   "execution_count": 39,
   "metadata": {},
   "outputs": [
    {
     "data": {
      "text/plain": [
       "np.int64(0)"
      ]
     },
     "execution_count": 39,
     "metadata": {},
     "output_type": "execute_result"
    }
   ],
   "source": [
    "# Check for duplicate customer IDs\n",
    "df['customer_id'].duplicated().sum()"
   ]
  },
  {
   "cell_type": "code",
   "execution_count": 40,
   "metadata": {},
   "outputs": [
    {
     "data": {
      "text/html": [
       "<div>\n",
       "<style scoped>\n",
       "    .dataframe tbody tr th:only-of-type {\n",
       "        vertical-align: middle;\n",
       "    }\n",
       "\n",
       "    .dataframe tbody tr th {\n",
       "        vertical-align: top;\n",
       "    }\n",
       "\n",
       "    .dataframe thead th {\n",
       "        text-align: right;\n",
       "    }\n",
       "</style>\n",
       "<table border=\"1\" class=\"dataframe\">\n",
       "  <thead>\n",
       "    <tr style=\"text-align: right;\">\n",
       "      <th></th>\n",
       "      <th>customer_id</th>\n",
       "      <th>age</th>\n",
       "      <th>gender</th>\n",
       "      <th>monthly_charges</th>\n",
       "      <th>total_charges</th>\n",
       "      <th>contract_type</th>\n",
       "      <th>internet_service</th>\n",
       "      <th>churn</th>\n",
       "    </tr>\n",
       "  </thead>\n",
       "  <tbody>\n",
       "  </tbody>\n",
       "</table>\n",
       "</div>"
      ],
      "text/plain": [
       "Empty DataFrame\n",
       "Columns: [customer_id, age, gender, monthly_charges, total_charges, contract_type, internet_service, churn]\n",
       "Index: []"
      ]
     },
     "execution_count": 40,
     "metadata": {},
     "output_type": "execute_result"
    }
   ],
   "source": [
    "# Check for unrealistic values (negative ages, extreme charges, etc.)\n",
    "df[(df['age'] < 0) | (df['monthly_charges'] < 0) | (df['total_charges'] < 0)]"
   ]
  },
  {
   "cell_type": "markdown",
   "metadata": {},
   "source": [
    "---\n",
    "## Task 1.3: Simple Data Visualization (5 points)\n",
    "\n",
    "### Instructions:\n",
    "Create **2 visualizations** to understand the data better:\n",
    "\n",
    "1. **Age Distribution**\n",
    "   - Create a histogram of customer ages\n",
    "   - Add appropriate title and labels\n",
    "\n",
    "2. **Churn by Contract Type**\n",
    "   - Create a bar chart showing churn rates for each contract type\n",
    "   - Use different colors for churned vs non-churned customers"
   ]
  },
  {
   "cell_type": "code",
   "execution_count": 41,
   "metadata": {},
   "outputs": [],
   "source": [
    "# Import visualization libraries\n",
    "import matplotlib.pyplot as plt\n",
    "import seaborn as sns"
   ]
  },
  {
   "cell_type": "code",
   "execution_count": 42,
   "metadata": {},
   "outputs": [
    {
     "data": {
      "image/png": "[encoded data removed]",
      "text/plain": [
       "<Figure size 800x500 with 1 Axes>"
      ]
     },
     "metadata": {},
     "output_type": "display_data"
    }
   ],
   "source": [
    "# Create histogram of customer ages\n",
    "plt.figure(figsize=(8,5))\n",
    "sns.histplot(df['age'], bins=20, kde=True, color='skyblue')\n",
    "plt.title('Customer Age Distribution')\n",
    "plt.xlabel('Age')\n",
    "plt.ylabel('Count')\n",
    "plt.show()"
   ]
  },
  {
   "cell_type": "code",
   "execution_count": 43,
   "metadata": {},
   "outputs": [
    {
     "data": {
      "image/png": "[encoded data removed]",
      "text/plain": [
       "<Figure size 800x500 with 1 Axes>"
      ]
     },
     "metadata": {},
     "output_type": "display_data"
    }
   ],
   "source": [
    "# Create bar chart for churn by contract type\n",
    "plt.figure(figsize=(8,5))\n",
    "sns.countplot(data=df, x='contract_type', hue='churn', palette='Set2')\n",
    "plt.title('Churn by Contract Type')\n",
    "plt.xlabel('Contract Type')\n",
    "plt.ylabel('Number of Customers')\n",
    "plt.legend(title='Churn')\n",
    "plt.show()"
   ]
  },
  {
   "cell_type": "markdown",
   "metadata": {},
   "source": [
    "---\n",
    "## Task 1.4: Basic Data Preparation (5 points)\n",
    "\n",
    "### Instructions:\n",
    "1. **Handle missing values**\n",
    "   - For numerical columns: Fill with median value\n",
    "   - For categorical columns: Fill with mode (most frequent value)\n",
    "\n",
    "2. **Convert data types**\n",
    "   - Convert `total_charges` to numeric (it might be stored as text)\n",
    "   - Ensure `age` and `monthly_charges` are numeric\n",
    "\n",
    "3. **Create a clean dataset**\n",
    "   - Save the cleaned dataset as `cleaned_customer_data.csv`\n",
    "   - Display confirmation that cleaning was successful"
   ]
  },
  {
   "cell_type": "code",
   "execution_count": 44,
   "metadata": {},
   "outputs": [],
   "source": [
    "# Create a copy of the dataset for cleaning\n",
    "df_clean = df.copy()"
   ]
  },
  {
   "cell_type": "code",
   "execution_count": 45,
   "metadata": {},
   "outputs": [],
   "source": [
    "# Handle missing values in numerical columns (use median)\n",
    "num_cols = df_clean.select_dtypes(include=[np.number]).columns\n",
    "df_clean[num_cols] = df_clean[num_cols].fillna(df_clean[num_cols].median())"
   ]
  },
  {
   "cell_type": "code",
   "execution_count": 46,
   "metadata": {},
   "outputs": [],
   "source": [
    "# Handle missing values in categorical columns (use mode)\n",
    "cat_cols = df_clean.select_dtypes(include='object').columns\n",
    "for col in cat_cols:\n",
    "    df_clean[col] = df_clean[col].fillna(df_clean[col].mode()[0])"
   ]
  },
  {
   "cell_type": "code",
   "execution_count": 47,
   "metadata": {},
   "outputs": [],
   "source": [
    "# Convert data types - total_charges to numeric, ensure age and monthly_charges are numeric\n",
    "df_clean['total_charges'] = pd.to_numeric(df_clean['total_charges'], errors='coerce')\n",
    "df_clean['age'] = pd.to_numeric(df_clean['age'], errors='coerce')\n",
    "df_clean['monthly_charges'] = pd.to_numeric(df_clean['monthly_charges'], errors='coerce')"
   ]
  },
  {
   "cell_type": "code",
   "execution_count": 48,
   "metadata": {},
   "outputs": [
    {
     "data": {
      "text/plain": [
       "customer_id          object\n",
       "age                 float64\n",
       "gender               object\n",
       "monthly_charges     float64\n",
       "total_charges       float64\n",
       "contract_type        object\n",
       "internet_service     object\n",
       "churn                object\n",
       "dtype: object"
      ]
     },
     "execution_count": 48,
     "metadata": {},
     "output_type": "execute_result"
    }
   ],
   "source": [
    "# Verify all data types are correct\n",
    "df_clean.dtypes"
   ]
  },
  {
   "cell_type": "code",
   "execution_count": 49,
   "metadata": {},
   "outputs": [],
   "source": [
    "# Save cleaned dataset\n",
    "df_clean.to_csv('../data/cleaned_customer_data.csv', index=False)"
   ]
  },
  {
   "cell_type": "code",
   "execution_count": 50,
   "metadata": {},
   "outputs": [
    {
     "name": "stdout",
     "output_type": "stream",
     "text": [
      "Missing values per column:\n",
      "customer_id         0\n",
      "age                 0\n",
      "gender              0\n",
      "monthly_charges     0\n",
      "total_charges       0\n",
      "contract_type       0\n",
      "internet_service    0\n",
      "churn               0\n",
      "dtype: int64\n",
      "\n",
      "Data types:\n",
      "customer_id          object\n",
      "age                 float64\n",
      "gender               object\n",
      "monthly_charges     float64\n",
      "total_charges       float64\n",
      "contract_type        object\n",
      "internet_service     object\n",
      "churn                object\n",
      "dtype: object\n"
     ]
    }
   ],
   "source": [
    "# Verify cleaning was successful (no missing values, correct data types)\n",
    "print('Missing values per column:')\n",
    "print(df_clean.isnull().sum())\n",
    "print('\\nData types:')\n",
    "print(df_clean.dtypes)"
   ]
  },
  {
   "cell_type": "markdown",
   "metadata": {},
   "source": [
    "---\n",
    "## Submission Checklist for Part 1\n",
    "\n",
    "Before moving to Part 2, verify you have completed:\n",
    "\n",
    "- [ ] ✅ Loaded the dataset successfully\n",
    "- [ ] ✅ Displayed basic information about the data\n",
    "- [ ] ✅ Identified and analyzed missing values\n",
    "- [ ] ✅ Created two visualizations (age histogram + churn by contract)\n",
    "- [ ] ✅ Cleaned the data and handled missing values\n",
    "- [ ] ✅ Saved `cleaned_customer_data.csv`\n",
    "- [ ] ✅ All code cells run without errors\n",
    "\n",
    "**Time Check:** You should have spent approximately 20-25 minutes on Part 1"
   ]
  }
 ],
 "metadata": {
  "kernelspec": {
   "display_name": "Python 3",
   "language": "python",
   "name": "python3"
  },
  "language_info": {
   "codemirror_mode": {
    "name": "ipython",
    "version": 3
   },
   "file_extension": ".py",
   "mimetype": "text/x-python",
   "name": "python",
   "nbconvert_exporter": "python",
   "pygments_lexer": "ipython3",
   "version": "3.13.7"
  }
 },
 "nbformat": 4,
 "nbformat_minor": 4
}
